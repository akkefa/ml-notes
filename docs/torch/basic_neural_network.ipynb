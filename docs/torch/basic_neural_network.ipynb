{
 "cells": [
  {
   "cell_type": "markdown",
   "metadata": {},
   "source": [
    "# Basic Neural Network\n",
    "\n",
    "\n",
    "## Example 1\n",
    "\n",
    "Consider a simple neural network with one weight $ w $ and no bias. Let the input $ x $ and the actual output $ y $ be given. The prediction $ \\hat{y} $ is:\n",
    "\n",
    "$$ \\hat{y} = w \\cdot x $$\n",
    "\n",
    "The MSE loss function for a single data point is:\n",
    "\n",
    "$$ \\text{MSE} = (y - \\hat{y})^2 $$\n",
    "\n",
    "### Step-by-Step Calculation\n",
    "\n",
    "1. **Prediction**: Compute the predicted output $ \\hat{y} $:\n",
    "\n",
    "   $$ \\hat{y} = w \\cdot x $$\n",
    "\n",
    "2. **Loss Calculation**: Compute the MSE loss:\n",
    "\n",
    "    $$ \\text{MSE} = (y - w \\cdot x)^2 $$\n",
    "\n",
    "   Let's take a numerical example to illustrate this process.\n",
    "\n",
    "   **Numerical Example:**\n",
    "   - Suppose $ x = 2 $, $ y = 5 $, and the current weight $ w = 1 $.\n",
    "\n",
    "   **Prediction**:\n",
    "\n",
    "   $$ \\hat{y} = 1 \\cdot 2 = 2 $$\n",
    "\n",
    "   **Loss Calculation**:\n",
    "\n",
    "   $$ \\text{MSE} = (5 - 2)^2 = 9 $$\n",
    "\n",
    "3. **Gradient Calculation**: Compute the partial derivative of the loss with respect to the weight $ w $:\n",
    "\n",
    "   $$ \\frac{\\partial \\text{MSE}}{\\partial w} = \\frac{\\partial}{\\partial w} (y - w \\cdot x)^2 $$\n",
    "\n",
    "   Using the chain rule:\n",
    "\n",
    "   $$ \\frac{\\partial \\text{MSE}}{\\partial w} = 2 (y - w \\cdot x) \\cdot (-x) $$\n",
    "\n",
    "   Substitute the values from our example:\n",
    "\n",
    "   $$ \\frac{\\partial \\text{MSE}}{\\partial w} = 2 (5 - 1 \\cdot 2) \\cdot (-2) $$\n",
    "\n",
    "   $$ \\frac{\\partial \\text{MSE}}{\\partial w} = 2 (5 - 2) \\cdot (-2) $$\n",
    "\n",
    "   $$ \\frac{\\partial \\text{MSE}}{\\partial w} = 2 \\cdot 3 \\cdot (-2) $$\n",
    "\n",
    "   $$ \\frac{\\partial \\text{MSE}}{\\partial w} = -12 $$\n",
    "\n",
    "4. **Update the Weight**: Use the gradient to update the weight $ w $ using gradient descent:\n",
    "   - Choose a learning rate $ \\eta $, typically a small positive number.\n",
    "   - Update rule: $ w_{\\text{new}} = w_{\\text{old}} - \\eta \\cdot \\frac{\\partial \\text{MSE}}{\\partial w} $\n",
    "\n",
    "   **For example:**\n",
    "   - Suppose the learning rate $ \\eta = 0.1 $.\n",
    "\n",
    "   **Weight Update**:\n",
    "   \n",
    "   $$ w_{\\text{new}} = 1 - 0.1 \\cdot (-12) $$\n",
    "   $$ w_{\\text{new}} = 1 + 1.2 $$\n",
    "   $$ w_{\\text{new}} = 2.2 $$\n",
    "\n",
    "So, after one iteration of gradient descent with MSE loss, the updated weight $ w $ is $ 2.2 $.\n",
    "\n",
    "### Iterative Process\n",
    "\n",
    "This process repeats for each training sample during training:\n",
    "- Compute $ \\hat{y} $.\n",
    "- Calculate $ \\text{MSE} $.\n",
    "- Compute $ \\frac{\\partial \\text{MSE}}{\\partial w} $.\n",
    "- Update $ w $.\n",
    "\n",
    "Through multiple iterations (epochs), the network learns to minimize the MSE loss across all training samples, improving its ability to predict $ y $ from $ x $.\n",
    "\n",
    "### Conclusion\n",
    "\n",
    "The gradient of the loss function (in this case, MSE) with respect to the weights of the network tells us how to adjust the weights to reduce the error between predicted and actual outputs during training. This iterative process is fundamental in training neural networks using gradient-based optimization algorithms like gradient descent."
   ]
  },
  {
   "cell_type": "code",
   "execution_count": 1,
   "metadata": {},
   "outputs": [
    {
     "name": "stdout",
     "output_type": "stream",
     "text": [
      "Epoch [1/5], Loss: 9.0000, Updated weight: 2.2000, Y: 5.0000, Y_pred: 2.0000\n",
      "Gradients: -12.0000\n",
      "Epoch [2/5], Loss: 0.3600, Updated weight: 2.4400, Y: 5.0000, Y_pred: 4.4000\n",
      "Gradients: -2.4000\n",
      "Epoch [3/5], Loss: 0.0144, Updated weight: 2.4880, Y: 5.0000, Y_pred: 4.8800\n",
      "Gradients: -0.4800\n",
      "Epoch [4/5], Loss: 0.0006, Updated weight: 2.4976, Y: 5.0000, Y_pred: 4.9760\n",
      "Gradients: -0.0960\n",
      "Epoch [5/5], Loss: 0.0000, Updated weight: 2.4995, Y: 5.0000, Y_pred: 4.9952\n",
      "Gradients: -0.0192\n",
      "Final weight: 2.4995\n"
     ]
    }
   ],
   "source": [
    "import torch\n",
    "import torch.nn as nn\n",
    "import torch.optim as optim\n",
    "\n",
    "# Define the input and output data (tensor form)\n",
    "x_data = torch.tensor([2.0])  # Input\n",
    "y_data = torch.tensor([5.0])  # Actual output\n",
    "\n",
    "# Define the model: Linear regression model with one weight parameter\n",
    "class LinearRegression(nn.Module):\n",
    "    def __init__(self):\n",
    "        super(LinearRegression, self).__init__()\n",
    "        self.w = nn.Parameter(torch.tensor([1.0]))  # Weight parameter\n",
    "\n",
    "    def forward(self, x):\n",
    "        return self.w * x\n",
    "\n",
    "# Instantiate the model\n",
    "model = LinearRegression()\n",
    "\n",
    "# Define the Mean Squared Error (MSE) loss function\n",
    "criterion = nn.MSELoss()\n",
    "\n",
    "# Define the optimizer (Gradient Descent optimizer with learning rate 0.1)\n",
    "optimizer = optim.SGD(model.parameters(), lr=0.1)\n",
    "\n",
    "# Training loop\n",
    "epochs = 5  # Number of training epochs\n",
    "\n",
    "for epoch in range(epochs):\n",
    "    # Forward pass\n",
    "    y_pred = model(x_data)\n",
    "\n",
    "    # Compute loss\n",
    "    loss = criterion(y_pred, y_data)\n",
    "\n",
    "    # Backward pass and optimize\n",
    "    optimizer.zero_grad()  # Clear gradients\n",
    "    loss.backward()  # Compute gradients\n",
    "    optimizer.step()  # Update weights\n",
    "\n",
    "    # Print progress\n",
    "    print(f'Epoch [{epoch + 1}/{epochs}], Loss: {loss.item():.4f}, Updated weight: {model.w.item():.4f}, Y: {y_data.item():.4f}, Y_pred: {y_pred.item():.4f}')\n",
    "    # Print gradients\n",
    "    print(f'Gradients: {model.w.grad.item():.4f}')\n",
    "\n",
    "# After training, you can access the updated weight\n",
    "print(f'Final weight: {model.w.item():.4f}')\n"
   ]
  },
  {
   "cell_type": "markdown",
   "metadata": {},
   "source": [
    "## Linear Regression\n",
    "\n",
    "The example above is a simple linear regression model with one weight and no bias. In practice, linear regression models can have multiple weights (coefficients) and an additional bias term. The process of training a linear regression model involves minimizing a loss function (e.g., MSE) by adjusting the weights and bias through gradient descent."
   ]
  },
  {
   "cell_type": "code",
   "execution_count": 2,
   "metadata": {},
   "outputs": [],
   "source": [
    "import matplotlib.pyplot as plt\n",
    "import numpy"
   ]
  },
  {
   "cell_type": "code",
   "execution_count": 25,
   "metadata": {},
   "outputs": [],
   "source": [
    "n_points = 1000\n",
    "x = torch.randn((n_points, 1))\n",
    "\n",
    "y = -5 * x + 2 + torch.randn(n_points,1)"
   ]
  },
  {
   "cell_type": "code",
   "execution_count": 27,
   "metadata": {},
   "outputs": [
    {
     "data": {
      "image/png": "[encoded data removed]",
      "text/plain": [
       "<Figure size 640x480 with 1 Axes>"
      ]
     },
     "metadata": {},
     "output_type": "display_data"
    }
   ],
   "source": [
    "plt.scatter(x, y, s=10, c='black', alpha=0.5)\n",
    "plt.xlabel('x')\n",
    "plt.ylabel('-5x + 2')\n",
    "plt.plot(x, -5 * x + 2, color='orange',)\n",
    "plt.show()"
   ]
  },
  {
   "cell_type": "code",
   "execution_count": 43,
   "metadata": {},
   "outputs": [],
   "source": [
    "# Define the weight and bias parameters\n",
    "\n",
    "w = torch.tensor([1.0], requires_grad=True)\n",
    "b = torch.tensor([0.0], requires_grad=True)\n",
    "\n",
    "# h = lambda x: w * x + b # Hypothesis function\n",
    "\n",
    "def h(x):\n",
    "    return w * x + b\n",
    "\n",
    "mse = lambda y, yhat: torch.mean((y - yhat) ** 2) # Mean Squared Error (MSE) loss function"
   ]
  },
  {
   "cell_type": "code",
   "execution_count": 44,
   "metadata": {},
   "outputs": [
    {
     "data": {
      "text/plain": [
       "(tensor([1.], requires_grad=True), tensor([0.], requires_grad=True))"
      ]
     },
     "execution_count": 44,
     "metadata": {},
     "output_type": "execute_result"
    }
   ],
   "source": [
    "w , b"
   ]
  },
  {
   "cell_type": "code",
   "execution_count": 45,
   "metadata": {},
   "outputs": [
    {
     "data": {
      "text/plain": [
       "(array([934, 463, 701, 724, 675, 678, 743, 543,  29, 692]),\n",
       " tensor([[-0.2419],\n",
       "         [ 1.1667],\n",
       "         [ 2.5996],\n",
       "         [-0.8262],\n",
       "         [ 0.3695],\n",
       "         [ 0.2122],\n",
       "         [ 1.3433],\n",
       "         [-0.3641],\n",
       "         [-1.0563],\n",
       "         [ 3.1883]]))"
      ]
     },
     "execution_count": 45,
     "metadata": {},
     "output_type": "execute_result"
    }
   ],
   "source": [
    "indexes = numpy.random.choice(n_points, 10)\n",
    "indexes, x[indexes]"
   ]
  },
  {
   "cell_type": "markdown",
   "metadata": {},
   "source": []
  },
  {
   "cell_type": "code",
   "execution_count": 62,
   "metadata": {},
   "outputs": [
    {
     "name": "stdout",
     "output_type": "stream",
     "text": [
      "Epoch 0 gradients:\n",
      "  dLoss/dw: -0.6757\n",
      "  dLoss/db: -0.2086\n",
      "Epoch 0: Loss = 0.7134, Weight = -5.0204, Bias = 1.9483\n",
      "Epoch 1 gradients:\n",
      "  dLoss/dw: -0.3992\n",
      "  dLoss/db: 0.1149\n",
      "Epoch 2 gradients:\n",
      "  dLoss/dw: 0.4960\n",
      "  dLoss/db: 0.1407\n",
      "Epoch 2: Loss = 1.2645, Weight = -5.0252, Bias = 1.9355\n",
      "Epoch 3 gradients:\n",
      "  dLoss/dw: 0.3273\n",
      "  dLoss/db: -0.4170\n",
      "Epoch 4 gradients:\n",
      "  dLoss/dw: 0.1912\n",
      "  dLoss/db: 0.2053\n",
      "Epoch 4: Loss = 1.0682, Weight = -5.0511, Bias = 1.9461\n",
      "Epoch 5 gradients:\n",
      "  dLoss/dw: 0.3247\n",
      "  dLoss/db: 0.0962\n",
      "Epoch 6 gradients:\n",
      "  dLoss/dw: -0.2238\n",
      "  dLoss/db: -0.5298\n",
      "Epoch 6: Loss = 0.6001, Weight = -5.0562, Bias = 1.9677\n",
      "Epoch 7 gradients:\n",
      "  dLoss/dw: -0.0683\n",
      "  dLoss/db: -0.3494\n",
      "Epoch 8 gradients:\n",
      "  dLoss/dw: 0.1034\n",
      "  dLoss/db: 0.4929\n",
      "Epoch 8: Loss = 1.0003, Weight = -5.0579, Bias = 1.9606\n",
      "Epoch 9 gradients:\n",
      "  dLoss/dw: -1.0371\n",
      "  dLoss/db: 0.3302\n",
      "Epoch 9: Loss = 1.0126, Weight = -5.0061, Bias = 1.9441\n",
      "Final parameters: Weight = -5.0061, Bias = 1.9441\n",
      "Target parameters: Weight = -5, Bias = 2\n"
     ]
    }
   ],
   "source": [
    "# stochastic gradient descent\n",
    "\n",
    "epochs = 10\n",
    "batch = 20\n",
    "lr = 0.05\n",
    "\n",
    "# For tracking progress\n",
    "losses = []\n",
    "weights = []\n",
    "biases = []\n",
    "\n",
    "# stochastic gradient descent with explicit math steps\n",
    "\n",
    "epochs = 10\n",
    "batch = 20\n",
    "lr = 0.05\n",
    "\n",
    "# For tracking progress\n",
    "losses = []\n",
    "weights = []\n",
    "biases = []\n",
    "\n",
    "for epoch in range(epochs):\n",
    "    # Sample a random batch\n",
    "    indexes = numpy.random.choice(n_points, batch)\n",
    "    x_batch = x[indexes]\n",
    "    y_batch = y[indexes]\n",
    "\n",
    "    # Forward pass - compute predictions manually\n",
    "    # Linear function: yhat = wx + b\n",
    "    yhat = h(x_batch)\n",
    "    \n",
    "    # Compute MSE loss explicitly: (1/n) * Σ(y - yhat)²\n",
    "    loss = mse(y_batch, yhat)\n",
    "    \n",
    "    # Save the current state\n",
    "    losses.append(loss.item())\n",
    "    weights.append(w.item())\n",
    "    biases.append(b.item())\n",
    "    \n",
    "    # Compute gradients (backward pass)\n",
    "    loss.backward()\n",
    "    \n",
    "    # Print gradient information\n",
    "    # For MSE, ∂Loss/∂w = (-2/n) * Σ(y - yhat) * x\n",
    "    # For MSE, ∂Loss/∂b = (-2/n) * Σ(y - yhat)\n",
    "    print(f\"Epoch {epoch} gradients:\")\n",
    "    print(f\"  dLoss/dw: {w.grad.item():.4f}\")\n",
    "    print(f\"  dLoss/db: {b.grad.item():.4f}\")\n",
    "    \n",
    "    # Manual gradient descent update\n",
    "    with torch.no_grad():\n",
    "        w -= w.grad * lr\n",
    "        b -= b.grad * lr\n",
    "        \n",
    "        # Reset gradients for next iteration\n",
    "        w.grad.zero_()\n",
    "        b.grad.zero_()\n",
    "    \n",
    "    # Print progress every 2 epochs or at the end\n",
    "    if epoch % 2 == 0 or epoch == epochs-1:\n",
    "        print(f'Epoch {epoch}: Loss = {loss.item():.4f}, Weight = {w.item():.4f}, Bias = {b.item():.4f}')\n",
    "\n",
    "# Compare final parameters with target parameters\n",
    "print(f\"Final parameters: Weight = {w.item():.4f}, Bias = {b.item():.4f}\")\n",
    "print(f\"Target parameters: Weight = -5, Bias = 2\")"
   ]
  },
  {
   "cell_type": "code",
   "execution_count": 55,
   "metadata": {},
   "outputs": [
    {
     "data": {
      "text/plain": [
       "(tensor([-4.9339], requires_grad=True), tensor([1.9462], requires_grad=True))"
      ]
     },
     "execution_count": 55,
     "metadata": {},
     "output_type": "execute_result"
    }
   ],
   "source": [
    "w , b"
   ]
  },
  {
   "cell_type": "code",
   "execution_count": null,
   "metadata": {},
   "outputs": [],
   "source": []
  }
 ],
 "metadata": {
  "kernelspec": {
   "display_name": ".venv",
   "language": "python",
   "name": "python3"
  },
  "language_info": {
   "codemirror_mode": {
    "name": "ipython",
    "version": 3
   },
   "file_extension": ".py",
   "mimetype": "text/x-python",
   "name": "python",
   "nbconvert_exporter": "python",
   "pygments_lexer": "ipython3",
   "version": "3.12.7"
  }
 },
 "nbformat": 4,
 "nbformat_minor": 2
}
